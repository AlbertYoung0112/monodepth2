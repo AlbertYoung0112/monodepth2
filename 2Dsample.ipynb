{
 "cells": [
  {
   "cell_type": "code",
   "execution_count": 1,
   "metadata": {
    "collapsed": true
   },
   "outputs": [],
   "source": [
    "import kitti_utils\n",
    "import os\n",
    "import numpy as np\n",
    "from scipy import interpolate\n",
    "from tqdm import tqdm"
   ]
  },
  {
   "cell_type": "code",
   "execution_count": 2,
   "outputs": [],
   "source": [
    "int_patch_height = 15\n",
    "# width = 1242\n",
    "# height = 375"
   ],
   "metadata": {
    "collapsed": false,
    "pycharm": {
     "name": "#%%\n"
    }
   }
  },
  {
   "cell_type": "code",
   "execution_count": 3,
   "outputs": [
    {
     "name": "stdout",
     "output_type": "stream",
     "text": [
      "Generating Depth Sample\n"
     ]
    }
   ],
   "source": [
    "print(\"Generating Depth Sample\")"
   ],
   "metadata": {
    "collapsed": false,
    "pycharm": {
     "name": "#%%\n"
    }
   }
  },
  {
   "cell_type": "code",
   "execution_count": 4,
   "outputs": [],
   "source": [
    "def depth_interpolation(depth_np):\n",
    "    height, width = depth_np.shape\n",
    "    h = int_patch_height\n",
    "    depth_patch_lb = int((height - int_patch_height) / 2)\n",
    "    depth_patch_ub = depth_patch_lb + int_patch_height\n",
    "    hh, ww = np.meshgrid(np.arange(h), np.arange(width), indexing='ij')\n",
    "    raw_coord = np.stack((hh, ww), axis=2)\n",
    "    tgt_hh = np.ones(width) * h / 2\n",
    "    tgt_ww = np.arange(width)\n",
    "    tgt_coord = np.stack((tgt_hh, tgt_ww), axis=1)\n",
    "    depth_patch = depth_np[depth_patch_lb:depth_patch_ub, :]\n",
    "    valid_mask = depth_patch != 0\n",
    "    valid_depth = depth_patch[valid_mask]\n",
    "    valid_coord = raw_coord[valid_mask]\n",
    "    int_depth = interpolate.griddata(valid_coord, valid_depth, tgt_coord, 'nearest')\n",
    "    if np.any(np.isnan(int_depth)):\n",
    "        print(len(valid_depth))\n",
    "    return int_depth"
   ],
   "metadata": {
    "collapsed": false,
    "pycharm": {
     "name": "#%%\n"
    }
   }
  },
  {
   "cell_type": "code",
   "execution_count": 5,
   "outputs": [
    {
     "name": "stdout",
     "output_type": "stream",
     "text": [
      "Found 59 Dirs\n"
     ]
    }
   ],
   "source": [
    "root_dirs = []\n",
    "for root, dirs, files in os.walk(\"/media/ay/extData/kitti/raw\"):\n",
    "    if root.endswith(\"sync\"):\n",
    "        root_dirs.append(root)\n",
    "print(f\"Found {len(root_dirs)} Dirs\")"
   ],
   "metadata": {
    "collapsed": false,
    "pycharm": {
     "name": "#%%\n"
    }
   }
  },
  {
   "cell_type": "code",
   "execution_count": 6,
   "outputs": [
    {
     "name": "stderr",
     "output_type": "stream",
     "text": [
      "100%|██████████| 59/59 [1:13:43<00:00, 74.98s/it] \n"
     ]
    }
   ],
   "source": [
    "for root_dir in tqdm(root_dirs):\n",
    "    output_dir = [os.path.join(root_dir, \"./sample\", f\"./{i}\") for i in range(4)]\n",
    "    for d in output_dir:\n",
    "        os.makedirs(d, exist_ok=True)\n",
    "    pc_files = os.listdir(os.path.join(root_dir, \"./velodyne_points/data\"))\n",
    "    calib_path = os.path.join(root_dir, \"..\")\n",
    "    for p in pc_files:\n",
    "        pc_path = os.path.join(root_dir, \"./velodyne_points/data\", p)\n",
    "        sample_views = []\n",
    "        for i in range(4):\n",
    "            img = kitti_utils.generate_depth_map(calib_path, pc_path, cam=i, vel_depth=False)\n",
    "            sample = depth_interpolation(img)\n",
    "            sample_path = os.path.join(output_dir[i], '.'.join(p.split('.')[:-1]))\n",
    "            np.save(sample_path, sample)"
   ],
   "metadata": {
    "collapsed": false,
    "pycharm": {
     "name": "#%%\n"
    }
   }
  },
  {
   "cell_type": "code",
   "execution_count": null,
   "outputs": [],
   "source": [],
   "metadata": {
    "collapsed": false,
    "pycharm": {
     "name": "#%%\n"
    }
   }
  }
 ],
 "metadata": {
  "kernelspec": {
   "display_name": "Python 3",
   "language": "python",
   "name": "python3"
  },
  "language_info": {
   "codemirror_mode": {
    "name": "ipython",
    "version": 2
   },
   "file_extension": ".py",
   "mimetype": "text/x-python",
   "name": "python",
   "nbconvert_exporter": "python",
   "pygments_lexer": "ipython2",
   "version": "2.7.6"
  }
 },
 "nbformat": 4,
 "nbformat_minor": 0
}